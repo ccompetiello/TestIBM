{
 "cells": [
  {
   "cell_type": "markdown",
   "id": "8914b5db-23bb-43c4-926c-bc9e852c15f6",
   "metadata": {},
   "source": [
    "# My Jupyter Notebook on IBM Watson Studio"
   ]
  },
  {
   "cell_type": "markdown",
   "id": "757d63fe-a30f-4a39-9ebc-d98dd404f22d",
   "metadata": {
    "tags": []
   },
   "source": [
    "**Christopher Competiello\n",
    "Capital Markets Manager"
   ]
  },
  {
   "cell_type": "markdown",
   "id": "f3140bee-6623-4bc1-a7a3-4dc3a47129d1",
   "metadata": {},
   "source": [
    "_I am interested in data science because buried within this field are the keys to the future."
   ]
  },
  {
   "cell_type": "markdown",
   "id": "172e4891-5c72-4c0a-a293-77666f7f33f7",
   "metadata": {},
   "source": [
    "### My code is going to add 1 + 3"
   ]
  },
  {
   "cell_type": "code",
   "execution_count": 8,
   "id": "be458f06-d42c-420f-9495-a2cc92bd0256",
   "metadata": {},
   "outputs": [
    {
     "data": {
      "text/plain": [
       "4"
      ]
     },
     "execution_count": 8,
     "metadata": {},
     "output_type": "execute_result"
    }
   ],
   "source": [
    " 1 + 3"
   ]
  },
  {
   "cell_type": "code",
   "execution_count": 5,
   "id": "d9e23716-77dc-45bb-b64d-48e059f693c1",
   "metadata": {},
   "outputs": [
    {
     "data": {
      "text/plain": [
       "2"
      ]
     },
     "execution_count": 5,
     "metadata": {},
     "output_type": "execute_result"
    }
   ],
   "source": [
    "1 + 1"
   ]
  }
 ],
 "metadata": {
  "kernelspec": {
   "display_name": "Python",
   "language": "python",
   "name": "conda-env-python-py"
  },
  "language_info": {
   "codemirror_mode": {
    "name": "ipython",
    "version": 3
   },
   "file_extension": ".py",
   "mimetype": "text/x-python",
   "name": "python",
   "nbconvert_exporter": "python",
   "pygments_lexer": "ipython3",
   "version": "3.7.12"
  }
 },
 "nbformat": 4,
 "nbformat_minor": 5
}
