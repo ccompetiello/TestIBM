{
 "cells": [
  {
   "cell_type": "markdown",
   "id": "0d14f9dd-603b-46b5-8780-349583751937",
   "metadata": {},
   "source": [
    "# My Jupyter Notebook on IBM Watson Studio"
   ]
  },
  {
   "cell_type": "markdown",
   "id": "69cacd15-efbd-490e-8e34-cede75f4a62d",
   "metadata": {},
   "source": [
    "**Christopher Competiello**\n",
    "\n",
    "Capital Markets Manager"
   ]
  },
  {
   "cell_type": "markdown",
   "id": "1672eadd-be18-4b5b-b73a-819d085c2816",
   "metadata": {},
   "source": [
    "*I am interested in data science because the business world is run by it*"
   ]
  },
  {
   "cell_type": "markdown",
   "id": "d87c8ad0-79be-4ffe-abf3-24fa85f2ae45",
   "metadata": {},
   "source": [
    "### The code will run 1 +1 "
   ]
  },
  {
   "cell_type": "code",
   "execution_count": 3,
   "id": "c0f9dec4-27db-4c59-ae2e-50624649652e",
   "metadata": {},
   "outputs": [
    {
     "data": {
      "text/plain": [
       "2"
      ]
     },
     "execution_count": 3,
     "metadata": {},
     "output_type": "execute_result"
    }
   ],
   "source": [
    "1 + 1"
   ]
  },
  {
   "cell_type": "markdown",
   "id": "03cbd241-0d92-4ddc-b420-02af0dd39d51",
   "metadata": {},
   "source": [
    "~~scratch this line~~ \n",
    "\n",
    "Red | Green | Blue\n",
    "--- | --- | ---\n",
    "9 | 10 | 11"
   ]
  },
  {
   "cell_type": "code",
   "execution_count": null,
   "id": "17d59b2c-5517-40f0-8094-bbe3b3d65652",
   "metadata": {},
   "outputs": [],
   "source": []
  }
 ],
 "metadata": {
  "kernelspec": {
   "display_name": "Python",
   "language": "python",
   "name": "conda-env-python-py"
  },
  "language_info": {
   "codemirror_mode": {
    "name": "ipython",
    "version": 3
   },
   "file_extension": ".py",
   "mimetype": "text/x-python",
   "name": "python",
   "nbconvert_exporter": "python",
   "pygments_lexer": "ipython3",
   "version": "3.7.12"
  }
 },
 "nbformat": 4,
 "nbformat_minor": 5
}
